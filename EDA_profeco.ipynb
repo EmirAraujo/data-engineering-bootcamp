{
 "cells": [
  {
   "cell_type": "markdown",
   "id": "7df08155-39a3-4a07-a341-18c4020ac8d6",
   "metadata": {
    "tags": []
   },
   "source": [
    "# Profeco EDA for wizeline challenge.\n",
    "\n",
    "\n",
    "Author: Alan Emir Araujo Pino\n",
    "\n",
    "emiraraujoing@gmail.com\n",
    "\n",
    "This notebook ran on 16GB ram "
   ]
  },
  {
   "cell_type": "markdown",
   "id": "abb5424d-6cbc-42d1-86a4-eaa7d6f7cd2d",
   "metadata": {},
   "source": [
    "## Data Loading"
   ]
  },
  {
   "cell_type": "code",
   "execution_count": 17,
   "id": "648036e5-cf73-4fa3-9db1-7764b580454c",
   "metadata": {},
   "outputs": [
    {
     "data": {
      "text/html": [
       "<div>\n",
       "<style scoped>\n",
       "    .dataframe tbody tr th:only-of-type {\n",
       "        vertical-align: middle;\n",
       "    }\n",
       "\n",
       "    .dataframe tbody tr th {\n",
       "        vertical-align: top;\n",
       "    }\n",
       "\n",
       "    .dataframe thead th {\n",
       "        text-align: right;\n",
       "    }\n",
       "</style>\n",
       "<table border=\"1\" class=\"dataframe\">\n",
       "  <thead>\n",
       "    <tr style=\"text-align: right;\">\n",
       "      <th></th>\n",
       "      <th>producto</th>\n",
       "      <th>presentacion</th>\n",
       "      <th>marca</th>\n",
       "      <th>categoria</th>\n",
       "      <th>catalogo</th>\n",
       "      <th>precio</th>\n",
       "      <th>fechaRegistro</th>\n",
       "      <th>cadenaComercial</th>\n",
       "      <th>giro</th>\n",
       "      <th>nombreComercial</th>\n",
       "      <th>direccion</th>\n",
       "      <th>estado</th>\n",
       "      <th>municipio</th>\n",
       "      <th>latitud</th>\n",
       "      <th>longitud</th>\n",
       "    </tr>\n",
       "  </thead>\n",
       "  <tbody>\n",
       "    <tr>\n",
       "      <th>0</th>\n",
       "      <td>CUADERNO FORMA ITALIANA</td>\n",
       "      <td>96 HOJAS PASTA DURA. CUADRICULA CHICA</td>\n",
       "      <td>ESTRELLA</td>\n",
       "      <td>MATERIAL ESCOLAR</td>\n",
       "      <td>UTILES ESCOLARES</td>\n",
       "      <td>25.9</td>\n",
       "      <td>2011-05-18 00:00:00.000</td>\n",
       "      <td>ABASTECEDORA LUMEN</td>\n",
       "      <td>PAPELERIAS</td>\n",
       "      <td>ABASTECEDORA LUMEN SUCURSAL VILLA COAPA</td>\n",
       "      <td>CANNES No. 6 ESQ. CANAL DE MIRAMONTES</td>\n",
       "      <td>DISTRITO FEDERAL</td>\n",
       "      <td>TLALPAN</td>\n",
       "      <td>19.29699</td>\n",
       "      <td>-99.125417</td>\n",
       "    </tr>\n",
       "    <tr>\n",
       "      <th>1</th>\n",
       "      <td>CRAYONES</td>\n",
       "      <td>CAJA 12 CERAS. JUMBO. C.B. 201423</td>\n",
       "      <td>CRAYOLA</td>\n",
       "      <td>MATERIAL ESCOLAR</td>\n",
       "      <td>UTILES ESCOLARES</td>\n",
       "      <td>27.5</td>\n",
       "      <td>2011-05-18 00:00:00.000</td>\n",
       "      <td>ABASTECEDORA LUMEN</td>\n",
       "      <td>PAPELERIAS</td>\n",
       "      <td>ABASTECEDORA LUMEN SUCURSAL VILLA COAPA</td>\n",
       "      <td>CANNES No. 6 ESQ. CANAL DE MIRAMONTES</td>\n",
       "      <td>DISTRITO FEDERAL</td>\n",
       "      <td>TLALPAN</td>\n",
       "      <td>19.29699</td>\n",
       "      <td>-99.125417</td>\n",
       "    </tr>\n",
       "    <tr>\n",
       "      <th>2</th>\n",
       "      <td>CRAYONES</td>\n",
       "      <td>CAJA 12 CERAS. TAMANO REGULAR C.B. 201034</td>\n",
       "      <td>CRAYOLA</td>\n",
       "      <td>MATERIAL ESCOLAR</td>\n",
       "      <td>UTILES ESCOLARES</td>\n",
       "      <td>13.9</td>\n",
       "      <td>2011-05-18 00:00:00.000</td>\n",
       "      <td>ABASTECEDORA LUMEN</td>\n",
       "      <td>PAPELERIAS</td>\n",
       "      <td>ABASTECEDORA LUMEN SUCURSAL VILLA COAPA</td>\n",
       "      <td>CANNES No. 6 ESQ. CANAL DE MIRAMONTES</td>\n",
       "      <td>DISTRITO FEDERAL</td>\n",
       "      <td>TLALPAN</td>\n",
       "      <td>19.29699</td>\n",
       "      <td>-99.125417</td>\n",
       "    </tr>\n",
       "    <tr>\n",
       "      <th>3</th>\n",
       "      <td>COLORES DE MADERA</td>\n",
       "      <td>CAJA 12 PIEZAS LARGO. TRIANGULAR. C.B. 640646</td>\n",
       "      <td>PINCELIN</td>\n",
       "      <td>MATERIAL ESCOLAR</td>\n",
       "      <td>UTILES ESCOLARES</td>\n",
       "      <td>46.9</td>\n",
       "      <td>2011-05-18 00:00:00.000</td>\n",
       "      <td>ABASTECEDORA LUMEN</td>\n",
       "      <td>PAPELERIAS</td>\n",
       "      <td>ABASTECEDORA LUMEN SUCURSAL VILLA COAPA</td>\n",
       "      <td>CANNES No. 6 ESQ. CANAL DE MIRAMONTES</td>\n",
       "      <td>DISTRITO FEDERAL</td>\n",
       "      <td>TLALPAN</td>\n",
       "      <td>19.29699</td>\n",
       "      <td>-99.125417</td>\n",
       "    </tr>\n",
       "    <tr>\n",
       "      <th>4</th>\n",
       "      <td>COLOR LARGO</td>\n",
       "      <td>CAJA 36 PIEZAS. CON SACAPUNTAS. 68-4036</td>\n",
       "      <td>CRAYOLA</td>\n",
       "      <td>MATERIAL ESCOLAR</td>\n",
       "      <td>UTILES ESCOLARES</td>\n",
       "      <td>115.0</td>\n",
       "      <td>2011-05-18 00:00:00.000</td>\n",
       "      <td>ABASTECEDORA LUMEN</td>\n",
       "      <td>PAPELERIAS</td>\n",
       "      <td>ABASTECEDORA LUMEN SUCURSAL VILLA COAPA</td>\n",
       "      <td>CANNES No. 6 ESQ. CANAL DE MIRAMONTES</td>\n",
       "      <td>DISTRITO FEDERAL</td>\n",
       "      <td>TLALPAN</td>\n",
       "      <td>19.29699</td>\n",
       "      <td>-99.125417</td>\n",
       "    </tr>\n",
       "  </tbody>\n",
       "</table>\n",
       "</div>"
      ],
      "text/plain": [
       "                  producto                                   presentacion  \\\n",
       "0  CUADERNO FORMA ITALIANA          96 HOJAS PASTA DURA. CUADRICULA CHICA   \n",
       "1                 CRAYONES              CAJA 12 CERAS. JUMBO. C.B. 201423   \n",
       "2                 CRAYONES      CAJA 12 CERAS. TAMANO REGULAR C.B. 201034   \n",
       "3        COLORES DE MADERA  CAJA 12 PIEZAS LARGO. TRIANGULAR. C.B. 640646   \n",
       "4              COLOR LARGO        CAJA 36 PIEZAS. CON SACAPUNTAS. 68-4036   \n",
       "\n",
       "      marca         categoria          catalogo  precio  \\\n",
       "0  ESTRELLA  MATERIAL ESCOLAR  UTILES ESCOLARES    25.9   \n",
       "1   CRAYOLA  MATERIAL ESCOLAR  UTILES ESCOLARES    27.5   \n",
       "2   CRAYOLA  MATERIAL ESCOLAR  UTILES ESCOLARES    13.9   \n",
       "3  PINCELIN  MATERIAL ESCOLAR  UTILES ESCOLARES    46.9   \n",
       "4   CRAYOLA  MATERIAL ESCOLAR  UTILES ESCOLARES   115.0   \n",
       "\n",
       "             fechaRegistro     cadenaComercial        giro  \\\n",
       "0  2011-05-18 00:00:00.000  ABASTECEDORA LUMEN  PAPELERIAS   \n",
       "1  2011-05-18 00:00:00.000  ABASTECEDORA LUMEN  PAPELERIAS   \n",
       "2  2011-05-18 00:00:00.000  ABASTECEDORA LUMEN  PAPELERIAS   \n",
       "3  2011-05-18 00:00:00.000  ABASTECEDORA LUMEN  PAPELERIAS   \n",
       "4  2011-05-18 00:00:00.000  ABASTECEDORA LUMEN  PAPELERIAS   \n",
       "\n",
       "                           nombreComercial  \\\n",
       "0  ABASTECEDORA LUMEN SUCURSAL VILLA COAPA   \n",
       "1  ABASTECEDORA LUMEN SUCURSAL VILLA COAPA   \n",
       "2  ABASTECEDORA LUMEN SUCURSAL VILLA COAPA   \n",
       "3  ABASTECEDORA LUMEN SUCURSAL VILLA COAPA   \n",
       "4  ABASTECEDORA LUMEN SUCURSAL VILLA COAPA   \n",
       "\n",
       "                               direccion            estado  \\\n",
       "0  CANNES No. 6 ESQ. CANAL DE MIRAMONTES  DISTRITO FEDERAL   \n",
       "1  CANNES No. 6 ESQ. CANAL DE MIRAMONTES  DISTRITO FEDERAL   \n",
       "2  CANNES No. 6 ESQ. CANAL DE MIRAMONTES  DISTRITO FEDERAL   \n",
       "3  CANNES No. 6 ESQ. CANAL DE MIRAMONTES  DISTRITO FEDERAL   \n",
       "4  CANNES No. 6 ESQ. CANAL DE MIRAMONTES  DISTRITO FEDERAL   \n",
       "\n",
       "                                  municipio   latitud   longitud  \n",
       "0  TLALPAN                                   19.29699 -99.125417  \n",
       "1  TLALPAN                                   19.29699 -99.125417  \n",
       "2  TLALPAN                                   19.29699 -99.125417  \n",
       "3  TLALPAN                                   19.29699 -99.125417  \n",
       "4  TLALPAN                                   19.29699 -99.125417  "
      ]
     },
     "execution_count": 17,
     "metadata": {},
     "output_type": "execute_result"
    }
   ],
   "source": [
    "import numpy as np\n",
    "import pandas as pd\n",
    "from pprint import pprint\n",
    "\n",
    "dfRaw = pd.read_csv('data/sample.csv')\n",
    "dfRaw.head()"
   ]
  },
  {
   "cell_type": "code",
   "execution_count": 18,
   "id": "44ce6e95-9e9e-4587-9fbf-71fbaf023a05",
   "metadata": {},
   "outputs": [
    {
     "data": {
      "text/plain": [
       "Index(['producto', 'presentacion', 'marca', 'categoria', 'catalogo', 'precio',\n",
       "       'fechaRegistro', 'cadenaComercial', 'giro', 'nombreComercial',\n",
       "       'direccion', 'estado', 'municipio', 'latitud', 'longitud'],\n",
       "      dtype='object')"
      ]
     },
     "execution_count": 18,
     "metadata": {},
     "output_type": "execute_result"
    }
   ],
   "source": [
    "dfRaw.columns"
   ]
  },
  {
   "cell_type": "code",
   "execution_count": 2,
   "id": "465a3aa3-5ced-46cb-a081-a8913f248ce5",
   "metadata": {},
   "outputs": [
    {
     "data": {
      "text/plain": [
       "(62530715,\n",
       " Index                0.000128\n",
       " producto           125.171356\n",
       " presentacion       126.210605\n",
       " marca              125.290073\n",
       " cadenaComercial    125.131585\n",
       " estado              62.534210\n",
       " dtype: float64)"
      ]
     },
     "execution_count": 2,
     "metadata": {},
     "output_type": "execute_result"
    }
   ],
   "source": [
    "# 21.5 GB of strings data\n",
    "\n",
    "dfRaw = pd.read_csv('/mnt/sx82T1/profecoEDA/all_data.csv',\n",
    "                    #low_memory=False ,\n",
    "                    usecols = ['producto','presentacion','marca','cadenaComercial','estado'],\n",
    "                    skipinitialspace=True,na_filter=False,\n",
    "                    dtype={'producto' : 'category', 'marca' : 'category','cadenaComercial' : 'category','estado' : 'category','presentacion' : 'category'}\n",
    "                   ) \n",
    "len(dfRaw),dfRaw.memory_usage(deep=True) / 1e6"
   ]
  },
  {
   "cell_type": "code",
   "execution_count": 3,
   "id": "54713633-fa61-4a92-94b3-eaa1e157a0a1",
   "metadata": {},
   "outputs": [],
   "source": [
    "# check rows counting\n",
    "#count = 0 \n",
    "#with open('/mnt/sx82T1/profecoEDA/all_data.csv','rb')  as f:\n",
    "#    for x in f:\n",
    "#        count+=1\n",
    "#count,x"
   ]
  },
  {
   "cell_type": "code",
   "execution_count": 4,
   "id": "fa7324ba-8808-4ccb-b420-657c63af17b4",
   "metadata": {},
   "outputs": [
    {
     "data": {
      "text/plain": [
       "937960725"
      ]
     },
     "execution_count": 4,
     "metadata": {},
     "output_type": "execute_result"
    }
   ],
   "source": [
    "# for quick EDA design\n",
    "#df = dfRaw.sample(frac=.01,replace=False)\n",
    "#del dfRaw\n",
    "#df.size\n",
    "df = dfRaw[['producto','presentacion','marca','cadenaComercial','estado']]\n",
    "len(df)*15"
   ]
  },
  {
   "cell_type": "markdown",
   "id": "83d05f5e-2507-466c-8f75-9385f1a9c03e",
   "metadata": {},
   "source": [
    "Ejemplo de los datos a utilizar"
   ]
  },
  {
   "cell_type": "code",
   "execution_count": 5,
   "id": "9f8710a2-1257-4856-9913-f8b14e6822bf",
   "metadata": {},
   "outputs": [
    {
     "data": {
      "text/html": [
       "<div>\n",
       "<style scoped>\n",
       "    .dataframe tbody tr th:only-of-type {\n",
       "        vertical-align: middle;\n",
       "    }\n",
       "\n",
       "    .dataframe tbody tr th {\n",
       "        vertical-align: top;\n",
       "    }\n",
       "\n",
       "    .dataframe thead th {\n",
       "        text-align: right;\n",
       "    }\n",
       "</style>\n",
       "<table border=\"1\" class=\"dataframe\">\n",
       "  <thead>\n",
       "    <tr style=\"text-align: right;\">\n",
       "      <th></th>\n",
       "      <th>producto</th>\n",
       "      <th>presentacion</th>\n",
       "      <th>marca</th>\n",
       "      <th>cadenaComercial</th>\n",
       "      <th>estado</th>\n",
       "    </tr>\n",
       "  </thead>\n",
       "  <tbody>\n",
       "    <tr>\n",
       "      <th>0</th>\n",
       "      <td>CUADERNO FORMA ITALIANA</td>\n",
       "      <td>96 HOJAS PASTA DURA. CUADRICULA CHICA</td>\n",
       "      <td>ESTRELLA</td>\n",
       "      <td>ABASTECEDORA LUMEN</td>\n",
       "      <td>DISTRITO FEDERAL</td>\n",
       "    </tr>\n",
       "    <tr>\n",
       "      <th>1</th>\n",
       "      <td>CRAYONES</td>\n",
       "      <td>CAJA 12 CERAS. JUMBO. C.B. 201423</td>\n",
       "      <td>CRAYOLA</td>\n",
       "      <td>ABASTECEDORA LUMEN</td>\n",
       "      <td>DISTRITO FEDERAL</td>\n",
       "    </tr>\n",
       "    <tr>\n",
       "      <th>2</th>\n",
       "      <td>CRAYONES</td>\n",
       "      <td>CAJA 12 CERAS. TAMANO REGULAR C.B. 201034</td>\n",
       "      <td>CRAYOLA</td>\n",
       "      <td>ABASTECEDORA LUMEN</td>\n",
       "      <td>DISTRITO FEDERAL</td>\n",
       "    </tr>\n",
       "    <tr>\n",
       "      <th>3</th>\n",
       "      <td>COLORES DE MADERA</td>\n",
       "      <td>CAJA 12 PIEZAS LARGO. TRIANGULAR. C.B. 640646</td>\n",
       "      <td>PINCELIN</td>\n",
       "      <td>ABASTECEDORA LUMEN</td>\n",
       "      <td>DISTRITO FEDERAL</td>\n",
       "    </tr>\n",
       "    <tr>\n",
       "      <th>4</th>\n",
       "      <td>COLOR LARGO</td>\n",
       "      <td>CAJA 36 PIEZAS. CON SACAPUNTAS. 68-4036</td>\n",
       "      <td>CRAYOLA</td>\n",
       "      <td>ABASTECEDORA LUMEN</td>\n",
       "      <td>DISTRITO FEDERAL</td>\n",
       "    </tr>\n",
       "  </tbody>\n",
       "</table>\n",
       "</div>"
      ],
      "text/plain": [
       "                  producto                                   presentacion  \\\n",
       "0  CUADERNO FORMA ITALIANA          96 HOJAS PASTA DURA. CUADRICULA CHICA   \n",
       "1                 CRAYONES              CAJA 12 CERAS. JUMBO. C.B. 201423   \n",
       "2                 CRAYONES      CAJA 12 CERAS. TAMANO REGULAR C.B. 201034   \n",
       "3        COLORES DE MADERA  CAJA 12 PIEZAS LARGO. TRIANGULAR. C.B. 640646   \n",
       "4              COLOR LARGO        CAJA 36 PIEZAS. CON SACAPUNTAS. 68-4036   \n",
       "\n",
       "      marca     cadenaComercial            estado  \n",
       "0  ESTRELLA  ABASTECEDORA LUMEN  DISTRITO FEDERAL  \n",
       "1   CRAYOLA  ABASTECEDORA LUMEN  DISTRITO FEDERAL  \n",
       "2   CRAYOLA  ABASTECEDORA LUMEN  DISTRITO FEDERAL  \n",
       "3  PINCELIN  ABASTECEDORA LUMEN  DISTRITO FEDERAL  \n",
       "4   CRAYOLA  ABASTECEDORA LUMEN  DISTRITO FEDERAL  "
      ]
     },
     "execution_count": 5,
     "metadata": {},
     "output_type": "execute_result"
    }
   ],
   "source": [
    "df.head()"
   ]
  },
  {
   "cell_type": "markdown",
   "id": "c8f28961-fef1-47ef-ace4-60a61d57802c",
   "metadata": {},
   "source": [
    "## Revcolumns del valor de los datos\n",
    "\n",
    "\n",
    "The objetive of the [LEY FEDERAL DE PROTECCIÓN AL CONSUMIDOR](http://www.diputados.gob.mx/LeyesBiblio/pdf/113_241220.pdf), is to protecto and promove the rights of consumers. \n",
    "Two articles concerning to this study are:\n",
    "\n",
    "\n",
    "\"1.1 La protección de la vida, salud y seguridad del consumidor contra los riesgos provocados por\n",
    "productos, prácticas en el abastecimiento de productos y servicios considerados peligrosos o\n",
    "nocivos\"\n",
    "\n",
    "\"1.3 La información adecuada y clara sobre los diferentes productos y servicios, con especificación\n",
    "correcta de cantidad, características, composición, calidad y precio, así como sobre los riesgos\n",
    "que representen\"\n",
    "\n",
    "These articles let us know that PROFECO monitors the products in order to check all their specifications.\n",
    "So, this study will use all the specifications as monitored products. \n"
   ]
  },
  {
   "cell_type": "code",
   "execution_count": 6,
   "id": "91af91ff-c787-4169-a6b5-b260ae5ea328",
   "metadata": {},
   "outputs": [],
   "source": [
    "df['producto'] = df[['producto','marca']].apply(lambda x : '{},{}'.format(x[0],x[1]), axis=1).astype(\"category\")"
   ]
  },
  {
   "cell_type": "code",
   "execution_count": 7,
   "id": "f51de0c9-bfe5-4dd1-aa6e-202dee099f2f",
   "metadata": {},
   "outputs": [],
   "source": [
    "#df['producto1'] = df['producto1'].astype(\"category\")"
   ]
  },
  {
   "cell_type": "code",
   "execution_count": 8,
   "id": "d1e9f86b-8cb1-49b4-bcdc-6855173e9c30",
   "metadata": {},
   "outputs": [],
   "source": [
    "df['producto'] = df[['producto','presentacion']].apply(lambda x : '{},{}'.format(x[0],x[1]), axis=1).astype(\"category\")"
   ]
  },
  {
   "cell_type": "markdown",
   "id": "8121221f-2778-46a2-a2b9-2ab6e316a23c",
   "metadata": {},
   "source": [
    "### 1 How many commercial chains are monitored, and therefore, included in this database?\n"
   ]
  },
  {
   "cell_type": "code",
   "execution_count": 9,
   "id": "39824b9e-8d35-4cfd-be9a-ed3f6290b655",
   "metadata": {},
   "outputs": [
    {
     "data": {
      "text/plain": [
       "cadenaComercial\n",
       "WAL-MART                           8643133\n",
       "BODEGA AURRERA                     6765453\n",
       "SORIANA                            6546211\n",
       "MEGA COMERCIAL MEXICANA            4899509\n",
       "CHEDRAUI                           4221625\n",
       "                                    ...   \n",
       "FARMACIA PROVIDENCIA                     7\n",
       "MUEBLERIA MI CASA                        5\n",
       "DANIEL S UNIFORMES                       5\n",
       "PESCADERIA EXPENDIO LOS RUFINOS          4\n",
       "PESCADERIA LA AMISTAD                    1\n",
       "Length: 706, dtype: int64"
      ]
     },
     "execution_count": 9,
     "metadata": {},
     "output_type": "execute_result"
    }
   ],
   "source": [
    "countOfCommercialChains = df.value_counts('cadenaComercial')\n",
    "countOfCommercialChains"
   ]
  },
  {
   "cell_type": "code",
   "execution_count": 10,
   "id": "2c31c8bf-a4d1-4e1d-b713-3722056dda4c",
   "metadata": {},
   "outputs": [
    {
     "name": "stdout",
     "output_type": "stream",
     "text": [
      "'Number of commercial chains 706'\n"
     ]
    }
   ],
   "source": [
    "numOfCommercialChains = len(countOfCommercialChains)\n",
    "pprint('Number of commercial chains '+str(numOfCommercialChains))"
   ]
  },
  {
   "cell_type": "markdown",
   "id": "37f319ef-7142-4445-bbab-7f96693718cf",
   "metadata": {
    "tags": []
   },
   "source": [
    "### 2 What are the top 10 monitored products by State?\n"
   ]
  },
  {
   "cell_type": "code",
   "execution_count": 11,
   "id": "d6deaa83-e652-4032-bac9-0dd7072080f3",
   "metadata": {},
   "outputs": [],
   "source": [
    "countEstadoProducto = df[['estado', 'producto']].dropna().value_counts(['estado','producto'])#.sort_values('estado')"
   ]
  },
  {
   "cell_type": "code",
   "execution_count": 12,
   "id": "d0908e61-d6e4-458c-a541-8ac567e3cd80",
   "metadata": {},
   "outputs": [
    {
     "data": {
      "text/plain": [
       "estado            producto                                                                                                                \n",
       "JALISCO           TORTILLA DE MAIZ,S/M,1 KG. GRANEL                                                                                           34285\n",
       "NUEVO LEÓN        TORTILLA DE MAIZ,S/M,1 KG. GRANEL                                                                                           26395\n",
       "MÉXICO            TORTILLA DE MAIZ,S/M,1 KG. GRANEL                                                                                           26260\n",
       "DISTRITO FEDERAL  LECHE ULTRAPASTEURIZADA,ALPURA 2000 CLASICA,PARCIALMENTE DESCREMADA CAJA 1 LT. (AZUL)                                       25262\n",
       "                  TORTILLA DE MAIZ,S/M,1 KG. GRANEL                                                                                           24321\n",
       "                                                                                                                                              ...  \n",
       "NUEVO LEÓN        MOTOS Y CARROS ELECTRICOS,TONKA-HASBRO,94623 ASST. CHUCK & FRIENDS. POWER PLAYARD SYSTEM. CHUCK O ROWDY O HANDY O BOOMER        1\n",
       "                  MOTOS Y CARROS ELÉCTRICOS,HOT WHEELS RC,X 2874 O C.B. 11885. TERRAIN TWISTER                                                    1\n",
       "                  MOTOS Y CARROS ELÉCTRICOS,MATTEL,X5450. BARBIE. RC AUTO                                                                         1\n",
       "HIDALGO           VIDEOJUEGOS,SONY,PS3. GRAND THEFT AUTO FIVE V                                                                                   1\n",
       "QUERÉTARO         PANTALLAS,SONY. BRAVIA,XBR-55X900A. 55 PLGS. LED. CON RECUADRO. SMART TV                                                        1\n",
       "Length: 203880, dtype: int64"
      ]
     },
     "execution_count": 12,
     "metadata": {},
     "output_type": "execute_result"
    }
   ],
   "source": [
    "countEstadoProducto"
   ]
  },
  {
   "cell_type": "code",
   "execution_count": 13,
   "id": "52a9976a-7ac3-4d46-ab3a-f61589973b5b",
   "metadata": {},
   "outputs": [
    {
     "name": "stdout",
     "output_type": "stream",
     "text": [
      "Number of states 32\n",
      "-------- DISTRITO FEDERAL --------\n",
      "LECHE ULTRAPASTEURIZADA,ALPURA 2000 CLASICA,PARCIALMENTE DESCREMADA CAJA 1 LT. (AZUL)\t \n",
      "TORTILLA DE MAIZ,S/M,1 KG. GRANEL\t \n",
      "CREMA,ALPURA,VASO 200 ML.\t \n",
      "PAN BLANCO BOLILLO,S/M,PIEZA\t \n",
      "LECHE CONDENSADA,LA LECHERA.,LATA 397 GR.\t \n",
      "YOGHURT,ALPURA,VASO 150 GR. FRESA\t \n",
      "CREMA,LALA,VASO 200 ML.\t \n",
      "LECHE ULTRAPASTEURIZADA,ALPURA 2000. SEMI,PARCIALMENTE DESCREMADA. CAJA 1 LT.\t \n",
      "LECHE ULTRAPASTEURIZADA,ALPURA 2000. LIGHT,PARCIALMENTE DESCREMADA. CAJA 1 LT.\t \n",
      "CREMA,ALPURA,BOTE 450 ML.\n",
      "\n",
      "-------- MÉXICO --------\n",
      "TORTILLA DE MAIZ,S/M,1 KG. GRANEL\t \n",
      "LECHE PASTEURIZADA,LALA. ENTERA,CAJA 1 LT.\t \n",
      "PAN BLANCO BOLILLO,S/M,PIEZA\t \n",
      "LECHE ULTRAPASTEURIZADA,ALPURA 2000 CLASICA,PARCIALMENTE DESCREMADA CAJA 1 LT. (AZUL)\t \n",
      "LECHE CONDENSADA,LA LECHERA.,LATA 397 GR.\t \n",
      "BLANQUEADOR,CLORALEX,BOTELLA 950 ML. EL RENDIDOR\t \n",
      "CREMA,ALPURA,VASO 200 ML.\t \n",
      "CHILES EN LATA,LA COSTENA,LATA 220 GR. JALAPENOS RAJAS\t \n",
      "CREMA,LALA,VASO 200 ML.\t \n",
      "LECHE ULTRAPASTEURIZADA,ALPURA 2000. LIGHT,PARCIALMENTE DESCREMADA. CAJA 1 LT.\n",
      "\n",
      "-------- COAHUILA DE ZARAGOZA --------\n",
      "TORTILLA DE MAIZ,S/M,1 KG. GRANEL\t \n",
      "LECHE ULTRAPASTEURIZADA,LALA. ENTERA,CAJA 1 LT. ENTERA\t \n",
      "LECHE PASTEURIZADA,LALA. ENTERA,CAJA 1 LT.\t \n",
      "PAN BLANCO BOLILLO,S/M,PIEZA\t \n",
      "LECHE CONDENSADA,LA LECHERA.,LATA 397 GR.\t \n",
      "BLANQUEADOR,CLORALEX,BOTELLA 950 ML. EL RENDIDOR\t \n",
      "MOLE ROJO EN PASTA,DONA MARIA,VASO 235 GR.\t \n",
      "ACEITE,NUTRIOLI,BOTELLA 946 ML. SOYA\t \n",
      "HARINA DE MAIZ,MASECA,PAQUETE 1 KG.\t \n",
      "CHILES EN LATA,LA COSTENA,LATA 220 GR. JALAPENOS RAJAS\n",
      "\n",
      "-------- GUANAJUATO --------\n",
      "TORTILLA DE MAIZ,S/M,1 KG. GRANEL\t \n",
      "LECHE ULTRAPASTEURIZADA,LALA. ENTERA,CAJA 1 LT. ENTERA\t \n",
      "LECHE PASTEURIZADA,LALA. ENTERA,CAJA 1 LT.\t \n",
      "PAN BLANCO BOLILLO,S/M,PIEZA\t \n",
      "LECHE CONDENSADA,LA LECHERA.,LATA 397 GR.\t \n",
      "PAN DE CAJA,BIMBO,PAQUETE GRANDE 680 GR. REBANADO BLANCO\t \n",
      "PAN DE CAJA,BIMBO,PAQUETE GRANDE 680 GR. INTEGRAL. REBANADO\t \n",
      "LIMPIADOR LIQUIDO P/PISO,PINOL. EL ORIGINAL,BOTELLA 1 LT. MULTIUSOS PINO\t \n",
      "PAN DE CAJA,BIMBO,PAQUETE 210 GR. TOSTADO. CLÁSICO\t \n",
      "BLANQUEADOR,CLORALEX,BOTELLA 950 ML. EL RENDIDOR\n",
      "\n",
      "-------- HIDALGO --------\n",
      "TORTILLA DE MAIZ,S/M,1 KG. GRANEL\t \n",
      "LECHE ULTRAPASTEURIZADA,ALPURA 2000 CLASICA,PARCIALMENTE DESCREMADA CAJA 1 LT. (AZUL)\t \n",
      "PAN BLANCO BOLILLO,S/M,PIEZA\t \n",
      "LICUADORAS,OSTER,BRLY07-Z00 O BRLY07-Z00-013 (NEGRA). VELOCIDADES 2 (AUTOMATICO) 3+2 PULSOS (MANUAL). BASE PLASTICO. VASO VIDRIO\t \n",
      "CHILES EN LATA,LA COSTENA,LATA 220 GR. JALAPENOS RAJAS\t \n",
      "ACEITE,1-2-3,BOTELLA 1 LT. MIXTO\t \n",
      "DETERGENTE P/ROPA,FOCA,BOLSA 1 KG. POLVO\t \n",
      "JABON DE PASTA,ZOTE (ROSA),BARRA 400 GR. CON ENVOLTURA\t \n",
      "LECHE CONDENSADA,LA LECHERA.,LATA 397 GR.\t \n",
      "MOLE ROJO EN PASTA,DONA MARIA,VASO 235 GR.\n",
      "\n",
      "-------- JALISCO --------\n",
      "TORTILLA DE MAIZ,S/M,1 KG. GRANEL\t \n",
      "LECHE ULTRAPASTEURIZADA,LALA. ENTERA,CAJA 1 LT. ENTERA\t \n",
      "PAN DE CAJA,BIMBO,PAQUETE GRANDE 680 GR. REBANADO BLANCO\t \n",
      "LECHE CONDENSADA,LA LECHERA.,LATA 397 GR.\t \n",
      "PAN DE CAJA,BIMBO,PAQUETE GRANDE 680 GR. INTEGRAL. REBANADO\t \n",
      "CHILES EN LATA,LA COSTENA,LATA 220 GR. JALAPENOS RAJAS\t \n",
      "LIMPIADOR LIQUIDO P/PISO,PINOL. EL ORIGINAL,BOTELLA 1 LT. MULTIUSOS PINO\t \n",
      "LECHE ULTRAPASTEURIZADA,LALA. LIGHT,PARCIALMENTE DESCREMADA. CAJA 1 LT.\t \n",
      "PAN DE CAJA,BIMBO,PAQUETE 210 GR. TOSTADO. CLÁSICO\t \n",
      "CHILES EN LATA,LA COSTENA,LATA 220 GR. JALAPENOS EN ESCABECHE\n",
      "\n",
      "-------- MICHOACÁN DE OCAMPO --------\n",
      "TORTILLA DE MAIZ,S/M,1 KG. GRANEL\t \n",
      "LECHE ULTRAPASTEURIZADA,LALA. ENTERA,CAJA 1 LT. ENTERA\t \n",
      "LECHE PASTEURIZADA,LALA. ENTERA,CAJA 1 LT.\t \n",
      "PAN BLANCO BOLILLO,S/M,PIEZA\t \n",
      "LECHE CONDENSADA,LA LECHERA.,LATA 397 GR.\t \n",
      "LECHE ULTRAPASTEURIZADA,LALA. SEMIDESCREMADA,CAJA 1 LT. SEMIDESCREMADA\t \n",
      "DETERGENTE P/ROPA,FOCA,BOLSA 1 KG. POLVO\t \n",
      "LECHE ULTRAPASTEURIZADA,LALA. LIGHT,PARCIALMENTE DESCREMADA. CAJA 1 LT.\t \n",
      "DETERGENTE P/ROPA Y TRASTES,ROMA,BOLSA 1 KG. POLVO\t \n",
      "BLANQUEADOR,CLORALEX,BOTELLA 950 ML. EL RENDIDOR\n",
      "\n",
      "-------- NUEVO LEÓN --------\n",
      "TORTILLA DE MAIZ,S/M,1 KG. GRANEL\t \n",
      "LECHE PASTEURIZADA,LALA. ENTERA,CAJA 1 LT.\t \n",
      "PAN BLANCO BOLILLO,S/M,PIEZA\t \n",
      "LECHE ULTRAPASTEURIZADA,LALA. ENTERA,CAJA 1 LT. ENTERA\t \n",
      "LECHE CONDENSADA,LA LECHERA.,LATA 397 GR.\t \n",
      "PAN DE CAJA,BIMBO,PAQUETE GRANDE 680 GR. INTEGRAL. REBANADO\t \n",
      "PASTELILLOS,MARINELA,PAQUETE CON 1 GANSITO\t \n",
      "PAN DE CAJA,BIMBO,PAQUETE GRANDE 680 GR. REBANADO BLANCO\t \n",
      "PASTELILLOS,MARINELA,PAQUETE CON 2 PINGUINOS\t \n",
      "MOLE ROJO EN PASTA,DONA MARIA,VASO 235 GR.\n",
      "\n",
      "-------- OAXACA --------\n",
      "TORTILLA DE MAIZ,S/M,1 KG. GRANEL\t \n",
      "LECHE ULTRAPASTEURIZADA,LALA. ENTERA,CAJA 1 LT. ENTERA\t \n",
      "LECHE ULTRAPASTEURIZADA,ALPURA 2000 CLASICA,PARCIALMENTE DESCREMADA CAJA 1 LT. (AZUL)\t \n",
      "PAN BLANCO BOLILLO,S/M,PIEZA\t \n",
      "LECHE PASTEURIZADA,LALA. ENTERA,CAJA 1 LT.\t \n",
      "CEBOLLA,S/M,1 KG. BLANCA SIN RABO\t \n",
      "AGUACATE,S/M,1 KG. HASS\t \n",
      "PAPA,S/M,1 KG. ALFA/BLANCA\t \n",
      "JITOMATE,S/M,1 KG. SALADETTE\t \n",
      "CHILE FRESCO,S/M,1 KG. SERRANO\n",
      "\n",
      "-------- PUEBLA --------\n",
      "TORTILLA DE MAIZ,S/M,1 KG. GRANEL\t \n",
      "LECHE ULTRAPASTEURIZADA,LALA. ENTERA,CAJA 1 LT. ENTERA\t \n",
      "LECHE PASTEURIZADA,LALA. ENTERA,CAJA 1 LT.\t \n",
      "PAN BLANCO BOLILLO,S/M,PIEZA\t \n",
      "LECHE ULTRAPASTEURIZADA,ALPURA 2000 CLASICA,PARCIALMENTE DESCREMADA CAJA 1 LT. (AZUL)\t \n",
      "LECHE CONDENSADA,LA LECHERA.,LATA 397 GR.\t \n",
      "LIMPIADOR LIQUIDO P/PISO,PINOL. EL ORIGINAL,BOTELLA 1 LT. MULTIUSOS PINO\t \n",
      "MOLE ROJO EN PASTA,DONA MARIA,VASO 235 GR.\t \n",
      "REFRESCO,COCA COLA,BOTELLA 2.5 LT. NO RETORNABLE\t \n",
      "BLANQUEADOR,CLORALEX,BOTELLA 950 ML. EL RENDIDOR\n",
      "\n",
      "-------- QUERÉTARO --------\n",
      "TORTILLA DE MAIZ,S/M,1 KG. GRANEL\t \n",
      "LECHE ULTRAPASTEURIZADA,LALA. ENTERA,CAJA 1 LT. ENTERA\t \n",
      "LECHE PASTEURIZADA,LALA. ENTERA,CAJA 1 LT.\t \n",
      "LECHE ULTRAPASTEURIZADA,ALPURA 2000 CLASICA,PARCIALMENTE DESCREMADA CAJA 1 LT. (AZUL)\t \n",
      "PAN BLANCO BOLILLO,S/M,PIEZA\t \n",
      "MOLE ROJO EN PASTA,DONA MARIA,VASO 235 GR.\t \n",
      "ACEITE,1-2-3,BOTELLA 1 LT. MIXTO\t \n",
      "JABON DE PASTA,ZOTE (ROSA),BARRA 400 GR. CON ENVOLTURA\t \n",
      "BLANQUEADOR,CLORALEX,BOTELLA 950 ML. EL RENDIDOR\t \n",
      "DETERGENTE P/ROPA,FOCA,BOLSA 1 KG. POLVO\n",
      "\n",
      "-------- QUINTANA ROO --------\n",
      "TORTILLA DE MAIZ,S/M,1 KG. GRANEL\t \n",
      "LECHE ULTRAPASTEURIZADA,LALA. ENTERA,CAJA 1 LT. ENTERA\t \n",
      "PAN BLANCO BOLILLO,S/M,PIEZA\t \n",
      "LECHE CONDENSADA,LA LECHERA.,LATA 397 GR.\t \n",
      "MOLE ROJO EN PASTA,DONA MARIA,VASO 235 GR.\t \n",
      "BLANQUEADOR,CLORALEX,BOTELLA 950 ML. EL RENDIDOR\t \n",
      "ELOTE,HERDEZ,LATA 220 GR. EN GRANO\t \n",
      "LECHE ULTRAPASTEURIZADA,LALA. LIGHT,PARCIALMENTE DESCREMADA. CAJA 1 LT.\t \n",
      "LIMPIADOR LIQUIDO P/PISO,PINOL. EL ORIGINAL,BOTELLA 1 LT. MULTIUSOS PINO\t \n",
      "LECHE ULTRAPASTEURIZADA,LALA. SEMIDESCREMADA,CAJA 1 LT. SEMIDESCREMADA\n",
      "\n",
      "-------- SINALOA --------\n",
      "TORTILLA DE MAIZ,S/M,1 KG. GRANEL\t \n",
      "LECHE ULTRAPASTEURIZADA,LALA. ENTERA,CAJA 1 LT. ENTERA\t \n",
      "LECHE PASTEURIZADA,LALA. ENTERA,CAJA 1 LT.\t \n",
      "PAN BLANCO BOLILLO,S/M,PIEZA\t \n",
      "ALIMENTO PREPARADO P/NIÑOS,GERBER,FRASCO 113 GR. A PARTIR DE LOS 6 MESES. MANZANA\t \n",
      "ALIMENTO PREPARADO P/NIÑOS,GERBER,FRASCO 170 GR. A PARTIR DE LOS 10 MESES. MANZANA\t \n",
      "LECHE ULTRAPASTEURIZADA,LALA. SEMIDESCREMADA,CAJA 1 LT. SEMIDESCREMADA\t \n",
      "PAN DE CAJA,BIMBO,PAQUETE GRANDE 680 GR. INTEGRAL. REBANADO\t \n",
      "PAN DE CAJA,BIMBO,PAQUETE GRANDE 680 GR. REBANADO BLANCO\t \n",
      "CREMA,LALA,VASO 200 ML.\n",
      "\n",
      "-------- SONORA --------\n",
      "TORTILLA DE MAIZ,S/M,1 KG. GRANEL\t \n",
      "PAN BLANCO BOLILLO,S/M,PIEZA\t \n",
      "CHILES EN LATA,LA COSTENA,LATA 220 GR. JALAPENOS RAJAS\t \n",
      "LECHE CONDENSADA,LA LECHERA.,LATA 397 GR.\t \n",
      "MAYONESA,MC CORMICK,FRASCO 390 GR. CON JUGO DE LIMONES\t \n",
      "PAN DE CAJA,BIMBO,PAQUETE 210 GR. TOSTADO. CLÁSICO\t \n",
      "BLANQUEADOR,CLORALEX,BOTELLA 950 ML. EL RENDIDOR\t \n",
      "CHILES EN LATA,LA COSTENA,LATA 380 GR. JALAPENOS RAJAS\t \n",
      "CEBOLLA,S/M,1 KG. BLANCA SIN RABO\t \n",
      "HARINA DE MAIZ,MASECA,PAQUETE 1 KG.\n",
      "\n",
      "-------- TABASCO --------\n",
      "TORTILLA DE MAIZ,S/M,1 KG. GRANEL\t \n",
      "LECHE ULTRAPASTEURIZADA,LALA. ENTERA,CAJA 1 LT. ENTERA\t \n",
      "PAN BLANCO BOLILLO,S/M,PIEZA\t \n",
      "LECHE CONDENSADA,LA LECHERA.,LATA 397 GR.\t \n",
      "CHILES EN LATA,LA COSTENA,LATA 220 GR. JALAPENOS RAJAS\t \n",
      "CHILES EN LATA,LA COSTENA,LATA 380 GR. JALAPENOS RAJAS\t \n",
      "BLANQUEADOR,CLORALEX,BOTELLA 950 ML. EL RENDIDOR\t \n",
      "CHILES EN LATA,LA COSTENA,LATA 220 GR. CHIPOTLES ADOBADOS\t \n",
      "MAYONESA,MC CORMICK,FRASCO 190 GR. CON JUGO DE LIMONES\t \n",
      "MOLE ROJO EN PASTA,DONA MARIA,VASO 235 GR.\n",
      "\n",
      "-------- TLAXCALA --------\n",
      "TORTILLA DE MAIZ,S/M,1 KG. GRANEL\t \n",
      "LECHE ULTRAPASTEURIZADA,LALA. ENTERA,CAJA 1 LT. ENTERA\t \n",
      "LECHE CONDENSADA,LA LECHERA.,LATA 397 GR.\t \n",
      "JABON DE PASTA,ZOTE (ROSA),BARRA 400 GR. CON ENVOLTURA\t \n",
      "ACEITE,1-2-3,BOTELLA 1 LT. MIXTO\t \n",
      "MAYONESA,MC CORMICK,FRASCO 190 GR. CON JUGO DE LIMONES\t \n",
      "LECHE ULTRAPASTEURIZADA,ALPURA 2000 CLASICA,PARCIALMENTE DESCREMADA CAJA 1 LT. (AZUL)\t \n",
      "MAYONESA,MC CORMICK,FRASCO 390 GR. CON JUGO DE LIMONES\t \n",
      "DETERGENTE P/ROPA Y TRASTES,ROMA,BOLSA 1 KG. POLVO\t \n",
      "LECHE ULTRAPASTEURIZADA,ALPURA 2000. SEMI,PARCIALMENTE DESCREMADA. CAJA 1 LT.\n",
      "\n",
      "-------- VERACRUZ DE IGNACIO DE LA LLAVE --------\n",
      "TORTILLA DE MAIZ,S/M,1 KG. GRANEL\t \n",
      "LECHE ULTRAPASTEURIZADA,LALA. ENTERA,CAJA 1 LT. ENTERA\t \n",
      "LECHE ULTRAPASTEURIZADA,ALPURA 2000 CLASICA,PARCIALMENTE DESCREMADA CAJA 1 LT. (AZUL)\t \n",
      "PAN BLANCO BOLILLO,S/M,PIEZA\t \n",
      "LECHE ULTRAPASTEURIZADA,LALA. SEMIDESCREMADA,CAJA 1 LT. SEMIDESCREMADA\t \n",
      "BLANQUEADOR,CLORALEX,BOTELLA 950 ML. EL RENDIDOR\t \n",
      "LECHE CONDENSADA,LA LECHERA.,LATA 397 GR.\t \n",
      "LECHE ULTRAPASTEURIZADA,LALA. LIGHT,PARCIALMENTE DESCREMADA. CAJA 1 LT.\t \n",
      "MERMELADA,MC CORMICK,FRASCO 270 GR. FRESA\t \n",
      "TORTILLA DE HARINA DE TRIGO,TORTILLINAS TIA ROSA,BOLSA 12 PIEZAS\n",
      "\n",
      "-------- YUCATÁN --------\n",
      "TORTILLA DE MAIZ,S/M,1 KG. GRANEL\t \n",
      "LECHE ULTRAPASTEURIZADA,LALA. ENTERA,CAJA 1 LT. ENTERA\t \n",
      "PAN BLANCO BOLILLO,S/M,PIEZA\t \n",
      "BLANQUEADOR,CLORALEX,BOTELLA 950 ML. EL RENDIDOR\t \n",
      "LECHE CONDENSADA,LA LECHERA.,LATA 397 GR.\t \n",
      "LECHE ULTRAPASTEURIZADA,ALPURA 2000. SEMI,PARCIALMENTE DESCREMADA. CAJA 1 LT.\t \n",
      "ACEITE,1-2-3,BOTELLA 1 LT. MIXTO\t \n",
      "CHILES EN LATA,LA COSTENA,LATA 220 GR. JALAPENOS RAJAS\t \n",
      "MOLE ROJO EN PASTA,DONA MARIA,VASO 235 GR.\t \n",
      "PAN DE CAJA,BIMBO,PAQUETE GRANDE 680 GR. REBANADO BLANCO\n",
      "\n",
      "-------- AGUASCALIENTES --------\n",
      "TORTILLA DE MAIZ,S/M,1 KG. GRANEL\t \n",
      "LECHE ULTRAPASTEURIZADA,LALA. ENTERA,CAJA 1 LT. ENTERA\t \n",
      "LECHE PASTEURIZADA,LALA. ENTERA,CAJA 1 LT.\t \n",
      "PAN BLANCO BOLILLO,S/M,PIEZA\t \n",
      "BLANQUEADOR,CLORALEX,BOTELLA 950 ML. EL RENDIDOR\t \n",
      "ACEITE,1-2-3,BOTELLA 1 LT. MIXTO\t \n",
      "LIMPIADOR LIQUIDO P/PISO,PINOL. EL ORIGINAL,BOTELLA 1 LT. MULTIUSOS PINO\t \n",
      "JABON DE PASTA,ZOTE (ROSA),BARRA 400 GR. CON ENVOLTURA\t \n",
      "REFRESCO,COCA COLA,BOTELLA 2.5 LT. NO RETORNABLE\t \n",
      "LECHE CONDENSADA,LA LECHERA.,LATA 397 GR.\n",
      "\n",
      "-------- COLIMA --------\n",
      "TORTILLA DE MAIZ,S/M,1 KG. GRANEL\t \n",
      "LECHE ULTRAPASTEURIZADA,LALA. ENTERA,CAJA 1 LT. ENTERA\t \n",
      "PAN BLANCO BOLILLO,S/M,PIEZA\t \n",
      "LECHE PASTEURIZADA,LALA. ENTERA,CAJA 1 LT.\t \n",
      "LECHE ULTRAPASTEURIZADA,ALPURA 2000 CLASICA,PARCIALMENTE DESCREMADA CAJA 1 LT. (AZUL)\t \n",
      "LECHE CONDENSADA,LA LECHERA.,LATA 397 GR.\t \n",
      "BLANQUEADOR,CLORALEX,BOTELLA 950 ML. EL RENDIDOR\t \n",
      "MOLE ROJO EN PASTA,DONA MARIA,VASO 235 GR.\t \n",
      "MAYONESA,MC CORMICK,FRASCO 390 GR. CON JUGO DE LIMONES\t \n",
      "PURE DE TOMATE,DEL FUERTE,CAJA 1 KG. CONDIMENTADO\n",
      "\n",
      "-------- ZACATECAS --------\n",
      "TORTILLA DE MAIZ,S/M,1 KG. GRANEL\t \n",
      "LECHE PASTEURIZADA,LALA. ENTERA,CAJA 1 LT.\t \n",
      "LECHE ULTRAPASTEURIZADA,LALA. ENTERA,CAJA 1 LT. ENTERA\t \n",
      "PAN BLANCO BOLILLO,S/M,PIEZA\t \n",
      "LECHE CONDENSADA,LA LECHERA.,LATA 397 GR.\t \n",
      "CHILES EN LATA,LA COSTENA,LATA 220 GR. JALAPENOS RAJAS\t \n",
      "PAN DE CAJA,BIMBO,PAQUETE 210 GR. TOSTADO. CLÁSICO\t \n",
      "CHILES EN LATA,LA COSTENA,LATA 380 GR. JALAPENOS RAJAS\t \n",
      "BLANQUEADOR,CLORALEX,BOTELLA 950 ML. EL RENDIDOR\t \n",
      "CHILES EN LATA,LA COSTENA,LATA 220 GR. JALAPENOS EN ESCABECHE\n",
      "\n",
      "-------- DURANGO --------\n",
      "TORTILLA DE MAIZ,S/M,1 KG. GRANEL\t \n",
      "ACEITE,1-2-3,BOTELLA 1 LT. MIXTO\t \n",
      "LECHE CONDENSADA,LA LECHERA.,LATA 397 GR.\t \n",
      "DETERGENTE P/ROPA,FOCA,BOLSA 1 KG. POLVO\t \n",
      "BLANQUEADOR,CLORALEX,BOTELLA 950 ML. EL RENDIDOR\t \n",
      "JABON DE PASTA,ZOTE (ROSA),BARRA 400 GR. CON ENVOLTURA\t \n",
      "LIMPIADOR LIQUIDO P/PISO,PINOL. EL ORIGINAL,BOTELLA 1 LT. MULTIUSOS PINO\t \n",
      "MOLE ROJO EN PASTA,DONA MARIA,VASO 235 GR.\t \n",
      "DETERGENTE P/ROPA,BLANCA NIEVES,BOLSA 1 KG. POLVO\t \n",
      "CHILES EN LATA,LA COSTENA,LATA 380 GR. JALAPENOS RAJAS\n",
      "\n",
      "-------- BAJA CALIFORNIA --------\n",
      "TORTILLA DE MAIZ,S/M,1 KG. GRANEL\t \n",
      "BLANQUEADOR,CLORALEX,BOTELLA 950 ML. EL RENDIDOR\t \n",
      "ACEITE,1-2-3,BOTELLA 1 LT. MIXTO\t \n",
      "LECHE CONDENSADA,LA LECHERA.,LATA 397 GR.\t \n",
      "REFRESCO,COCA COLA,LATA 355 ML.\t \n",
      "ATUN,DOLORES,LATA 140 GR. EN ACEITE. LOMO\t \n",
      "ATUN,DOLORES,LATA 140 GR. EN AGUA. LOMO\t \n",
      "PAN DE CAJA,BIMBO,PAQUETE 210 GR. TOSTADO. CLÁSICO\t \n",
      "DETERGENTE P/ROPA,FOCA,BOLSA 1 KG. POLVO\t \n",
      "SALSA PICANTE,BUFALO,BOTELLA 150 GR. CLASICA\n",
      "\n",
      "-------- BAJA CALIFORNIA SUR --------\n",
      "TORTILLA DE MAIZ,S/M,1 KG. GRANEL\t \n",
      "LECHE CONDENSADA,LA LECHERA.,LATA 397 GR.\t \n",
      "BLANQUEADOR,CLORALEX,BOTELLA 950 ML. EL RENDIDOR\t \n",
      "PASTELILLOS,MARINELA,PAQUETE CON 1 GANSITO\t \n",
      "REFRESCO,COCA COLA,LATA 355 ML.\t \n",
      "HARINA DE MAIZ,MASECA,PAQUETE 1 KG.\t \n",
      "MOLE ROJO EN PASTA,DONA MARIA,VASO 235 GR.\t \n",
      "PAN DE CAJA,BIMBO,PAQUETE 210 GR. TOSTADO. CLÁSICO\t \n",
      "CREMA,LALA,VASO 200 ML.\t \n",
      "PASTELILLOS,MARINELA,PAQUETE CON 2 PINGUINOS\n",
      "\n",
      "-------- CAMPECHE --------\n",
      "TORTILLA DE MAIZ,S/M,1 KG. GRANEL\t \n",
      "LECHE CONDENSADA,LA LECHERA.,LATA 397 GR.\t \n",
      "ELOTE,HERDEZ,LATA 220 GR. EN GRANO\t \n",
      "MOLE ROJO EN PASTA,DONA MARIA,VASO 235 GR.\t \n",
      "LECHE ULTRAPASTEURIZADA,LALA. LIGHT,PARCIALMENTE DESCREMADA. CAJA 1 LT.\t \n",
      "PAN DE CAJA,BIMBO,PAQUETE GRANDE 680 GR. REBANADO BLANCO\t \n",
      "BLANQUEADOR,CLORALEX,BOTELLA 950 ML. EL RENDIDOR\t \n",
      "CREMA,LALA,VASO 200 ML.\t \n",
      "SAN RAFAEL. REAL,S/M,1 KG. GRANEL. JAMON. DE PIERNA FINO 16% PROTEINAS\t \n",
      "LECHE ULTRAPASTEURIZADA,LALA. SEMIDESCREMADA,CAJA 1 LT. SEMIDESCREMADA\n",
      "\n",
      "-------- CHIAPAS --------\n",
      "TORTILLA DE MAIZ,S/M,1 KG. GRANEL\t \n",
      "CHILES EN LATA,LA COSTENA,LATA 220 GR. JALAPENOS RAJAS\t \n",
      "LECHE CONDENSADA,LA LECHERA.,LATA 397 GR.\t \n",
      "LECHE ULTRAPASTEURIZADA,LALA. SEMIDESCREMADA,CAJA 1 LT. SEMIDESCREMADA\t \n",
      "LECHE ULTRAPASTEURIZADA,LALA. LIGHT,PARCIALMENTE DESCREMADA. CAJA 1 LT.\t \n",
      "REFRESCO,COCA COLA,LATA 355 ML.\t \n",
      "LECHE ULTRAPASTEURIZADA,LALA. ENTERA,CAJA 1 LT. ENTERA\t \n",
      "PURE DE TOMATE,DEL FUERTE,CAJA 1 KG. CONDIMENTADO\t \n",
      "SALSA PICANTE,BUFALO,BOTELLA 150 GR. CLASICA\t \n",
      "BLANQUEADOR,CLORALEX,BOTELLA 950 ML. EL RENDIDOR\n",
      "\n",
      "-------- CHIHUAHUA --------\n",
      "TORTILLA DE MAIZ,S/M,1 KG. GRANEL\t \n",
      "ACEITE,1-2-3,BOTELLA 1 LT. MIXTO\t \n",
      "CHILES EN LATA,LA COSTENA,LATA 220 GR. JALAPENOS RAJAS\t \n",
      "LECHE CONDENSADA,LA LECHERA.,LATA 397 GR.\t \n",
      "JABON DE PASTA,ZOTE (ROSA),BARRA 400 GR. CON ENVOLTURA\t \n",
      "BLANQUEADOR,CLORALEX,BOTELLA 950 ML. EL RENDIDOR\t \n",
      "SHAMPOO,CAPRICE NATURALS,BOTELLA 800 ML. ACEITE HERBAL\t \n",
      "CHILES EN LATA,LA COSTENA,LATA 380 GR. JALAPENOS RAJAS\t \n",
      "REFRESCO,COCA COLA,LATA 355 ML.\t \n",
      "ACEITE,NUTRIOLI,BOTELLA 946 ML. SOYA\n",
      "\n",
      "-------- GUERRERO --------\n",
      "TORTILLA DE MAIZ,S/M,1 KG. GRANEL\t \n",
      "LECHE PASTEURIZADA,LALA. ENTERA,CAJA 1 LT.\t \n",
      "LIMPIADOR LIQUIDO P/PISO,PINOL. EL ORIGINAL,BOTELLA 1 LT. MULTIUSOS PINO\t \n",
      "MAYONESA,MC CORMICK,FRASCO 190 GR. CON JUGO DE LIMONES\t \n",
      "LECHE ULTRAPASTEURIZADA,LALA. ENTERA,CAJA 1 LT. ENTERA\t \n",
      "ACEITE,1-2-3,BOTELLA 1 LT. MIXTO\t \n",
      "LECHE ULTRAPASTEURIZADA,LALA. SEMIDESCREMADA,CAJA 1 LT. SEMIDESCREMADA\t \n",
      "PAN DE CAJA,BIMBO,PAQUETE GRANDE 680 GR. INTEGRAL. REBANADO\t \n",
      "LECHE ULTRAPASTEURIZADA,ALPURA 2000. SEMI,PARCIALMENTE DESCREMADA. CAJA 1 LT.\t \n",
      "TORTILLA DE HARINA DE TRIGO,TORTILLINAS TIA ROSA,BOLSA 12 PIEZAS\n",
      "\n",
      "-------- MORELOS --------\n",
      "TORTILLA DE MAIZ,S/M,1 KG. GRANEL\t \n",
      "SAL MOLIDA DE MESA,LA FINA,BOTE 1 KG.\t \n",
      "LECHE CONDENSADA,LA LECHERA.,LATA 397 GR.\t \n",
      "CHILES EN LATA,LA COSTENA,LATA 220 GR. JALAPENOS RAJAS\t \n",
      "CHILES EN LATA,LA COSTENA,LATA 220 GR. CHIPOTLES ADOBADOS\t \n",
      "ELOTE,HERDEZ,LATA 220 GR. EN GRANO\t \n",
      "SALSA PICANTE,BUFALO,BOTELLA 150 GR. CLASICA\t \n",
      "ACEITE,1-2-3,BOTELLA 1 LT. MIXTO\t \n",
      "PAN DE CAJA,BIMBO,PAQUETE MEDIANO 460 GR. REBANADO BLANCO\t \n",
      "ATUN,DOLORES,LATA 140 GR. EN AGUA. LOMO\n",
      "\n",
      "-------- NAYARIT --------\n",
      "TORTILLA DE MAIZ,S/M,1 KG. GRANEL\t \n",
      "CREMA,LALA,VASO 200 ML.\t \n",
      "REFRESCO,COCA COLA,LATA 355 ML.\t \n",
      "SALSA INGLESA,WORCESTERSHIRE CROSSE & BLACKWELL,BOTELLA 145 ML.\t \n",
      "MOLE ROJO EN PASTA,DONA MARIA,VASO 235 GR.\t \n",
      "MERMELADA,MC CORMICK,FRASCO 270 GR. FRESA\t \n",
      "BLANQUEADOR,CLORALEX,BOTELLA 950 ML. EL RENDIDOR\t \n",
      "REFRESCO,COCA COLA,BOTELLA 2.5 LT. NO RETORNABLE\t \n",
      "LECHE CONDENSADA,LA LECHERA.,LATA 397 GR.\t \n",
      "CREMA,LALA,BOTE 450 ML.\n",
      "\n",
      "-------- SAN LUIS POTOSÍ --------\n",
      "TORTILLA DE MAIZ,S/M,1 KG. GRANEL\t \n",
      "LECHE PASTEURIZADA,LALA. ENTERA,CAJA 1 LT.\t \n",
      "REFRESCO,COCA COLA,LATA 355 ML.\t \n",
      "LECHE CONDENSADA,LA LECHERA.,LATA 397 GR.\t \n",
      "REFRESCO,COCA COLA,BOTELLA 2.5 LT. NO RETORNABLE\t \n",
      "BLANQUEADOR,CLORALEX,BOTELLA 950 ML. EL RENDIDOR\t \n",
      "MOLE ROJO EN PASTA,DONA MARIA,VASO 235 GR.\t \n",
      "LIMPIADOR LIQUIDO P/PISO,PINOL. EL ORIGINAL,BOTELLA 1 LT. MULTIUSOS PINO\t \n",
      "POLVO P/BEBIDAS SABOR CHOCOLATE,CHOCO MILK,LATA 400 GR.\t \n",
      "CREMA,LALA,VASO 200 ML.\n",
      "\n",
      "-------- TAMAULIPAS --------\n",
      "TORTILLA DE MAIZ,S/M,1 KG. GRANEL\t \n",
      "LECHE CONDENSADA,LA LECHERA.,LATA 397 GR.\t \n",
      "HARINA DE TRIGO,SELECTA,PAQUETE 1 KG.\t \n",
      "MOLE ROJO EN PASTA,DONA MARIA,VASO 235 GR.\t \n",
      "HARINA DE MAIZ,MASECA,PAQUETE 1 KG.\t \n",
      "BLANQUEADOR,CLORALEX,BOTELLA 950 ML. EL RENDIDOR\t \n",
      "MOSTAZA,MC CORMICK,FRASCO 210 GR.\t \n",
      "LECHE ULTRAPASTEURIZADA,LALA. ENTERA,CAJA 1 LT. ENTERA\t \n",
      "REFRESCO,COCA COLA,BOTELLA 2.5 LT. NO RETORNABLE\t \n",
      "PAN DE CAJA,BIMBO,PAQUETE GRANDE 680 GR. REBANADO BLANCO\n",
      "\n"
     ]
    }
   ],
   "source": [
    "estados = df['estado'].dropna().unique()\n",
    "estados = [s for s in estados if 'estado' not in s and len(s)>4]\n",
    "print('Number of states',len(estados))\n",
    "for x in estados:\n",
    "    print('--------',x,'--------')\n",
    "    print('\\t \\n'.join(countEstadoProducto[[x]].head(10).unstack().columns.values))\n",
    "    print()"
   ]
  },
  {
   "cell_type": "markdown",
   "id": "81bd92bb-f0d9-4e67-ae77-923c93cbdc7b",
   "metadata": {
    "tags": []
   },
   "source": [
    "### 3 Which is the commercial chain with the highest number of monitored products?\n"
   ]
  },
  {
   "cell_type": "code",
   "execution_count": 14,
   "id": "553ec6af-c329-4fe5-a365-2731f3b5a04b",
   "metadata": {},
   "outputs": [
    {
     "name": "stdout",
     "output_type": "stream",
     "text": [
      "WAL-MART\n",
      "Monitored Products:  8643133\n"
     ]
    }
   ],
   "source": [
    "print(countOfCommercialChains.index[0])\n",
    "print('Monitored Products: ', countOfCommercialChains[0])"
   ]
  },
  {
   "cell_type": "markdown",
   "id": "23c9a366-9f26-4117-9034-0a7504440248",
   "metadata": {
    "tags": []
   },
   "source": [
    "### 4 Use the data to find an interesting fact.\n"
   ]
  },
  {
   "cell_type": "markdown",
   "id": "ac04098a-acad-4b8f-afb9-1db1cdbd27bd",
   "metadata": {},
   "source": [
    "Here we have the top 20 most monitored products in every commercial chain and brand. \n",
    "\n",
    "It is interesting to note that the top 20 monitored products in every commercial chain and brand are unbranded. Besides, they are more than 25% of the market share."
   ]
  },
  {
   "cell_type": "code",
   "execution_count": 15,
   "id": "f20751e4-fd09-43e1-b890-683525b6add5",
   "metadata": {},
   "outputs": [
    {
     "data": {
      "text/plain": [
       "cadenaComercial             marca\n",
       "WAL-MART                    S/M      0.041743\n",
       "BODEGA AURRERA              S/M      0.037119\n",
       "SORIANA                     S/M      0.033494\n",
       "MEGA COMERCIAL MEXICANA     S/M      0.024150\n",
       "CHEDRAUI                    S/M      0.020706\n",
       "SUPERAMA                    S/M      0.016295\n",
       "COMERCIAL MEXICANA          S/M      0.013576\n",
       "MERCADO SORIANA             S/M      0.008361\n",
       "HIPERMERCADO SORIANA        S/M      0.008253\n",
       "FARMACIA GUADALAJARA        S/M      0.007619\n",
       "SORIANA SUPER               S/M      0.007524\n",
       "H.E.B.                      S/M      0.006826\n",
       "BODEGA COMERCIAL MEXICANA   S/M      0.006290\n",
       "SANBORN S HNOS.             S/M      0.005759\n",
       "BENAVIDES                   S/M      0.004806\n",
       "FARMACIAS DEL AHORRO        S/M      0.004287\n",
       "SORIANA PLUS                S/M      0.003943\n",
       "TORTILLERIAS TRADICIONALES  S/M      0.003310\n",
       "I.S.S.S.T.E.                S/M      0.003037\n",
       "SUMESA                      S/M      0.002556\n",
       "dtype: float64"
      ]
     },
     "execution_count": 15,
     "metadata": {},
     "output_type": "execute_result"
    }
   ],
   "source": [
    "countCommercialChainBrand = df.value_counts(['cadenaComercial','marca'],normalize=True).head(20)\n",
    "countCommercialChainBrand"
   ]
  },
  {
   "cell_type": "code",
   "execution_count": 16,
   "id": "daae015b-256a-41c6-a00e-9271c2934b6e",
   "metadata": {},
   "outputs": [
    {
     "data": {
      "text/plain": [
       "0.2596548112395644"
      ]
     },
     "execution_count": 16,
     "metadata": {},
     "output_type": "execute_result"
    }
   ],
   "source": [
    "countCommercialChainBrand.sum()"
   ]
  },
  {
   "cell_type": "markdown",
   "id": "c91f9ccd-1e7c-4e63-b905-25b967b9ca91",
   "metadata": {},
   "source": [
    "### 5 What are the lessons learned from this exercise?\n"
   ]
  },
  {
   "cell_type": "markdown",
   "id": "7d53bcc0-5dcf-43aa-ba35-5ab460577fa3",
   "metadata": {},
   "source": [
    "I learned that huge datasets need the correct tools to be solved. Besides, pandas could handle categorical variables."
   ]
  },
  {
   "cell_type": "markdown",
   "id": "a567c116-7403-4ce8-bd95-0f01b163b96d",
   "metadata": {
    "tags": []
   },
   "source": [
    "### 6 Can you identify other ways to approach this problem? Explain.\n"
   ]
  },
  {
   "cell_type": "markdown",
   "id": "273aa20f-5912-4d8b-997a-085eb1500d05",
   "metadata": {},
   "source": [
    "This problem can be seen as a categorical data mining problem. \n",
    "\n",
    "We can use other tools in order to distribute workloads."
   ]
  }
 ],
 "metadata": {
  "kernelspec": {
   "display_name": "Python 3 (ipykernel)",
   "language": "python",
   "name": "python3"
  },
  "language_info": {
   "codemirror_mode": {
    "name": "ipython",
    "version": 3
   },
   "file_extension": ".py",
   "mimetype": "text/x-python",
   "name": "python",
   "nbconvert_exporter": "python",
   "pygments_lexer": "ipython3",
   "version": "3.9.7"
  }
 },
 "nbformat": 4,
 "nbformat_minor": 5
}
