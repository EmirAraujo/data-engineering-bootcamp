{
 "cells": [
  {
   "cell_type": "markdown",
   "id": "7df08155-39a3-4a07-a341-18c4020ac8d6",
   "metadata": {},
   "source": [
    "# Profeco EDA for wizeline challenge.\n",
    "\n",
    "\n",
    "Author: Alan Emir Araujo Pino\n",
    "\n",
    "emiraraujoing@gmail.com"
   ]
  },
  {
   "cell_type": "code",
   "execution_count": 1,
   "id": "648036e5-cf73-4fa3-9db1-7764b580454c",
   "metadata": {},
   "outputs": [
    {
     "data": {
      "text/plain": [
       "62530715"
      ]
     },
     "execution_count": 1,
     "metadata": {},
     "output_type": "execute_result"
    }
   ],
   "source": [
    "import numpy as np\n",
    "import pandas as pd\n",
    "\n",
    "dfRaw = pd.read_csv('/mnt/sx82T1/profecoEDA/all_data.csv',low_memory=False ,usecols = ['producto','presentacion','marca','cadenaComercial','estado'],skipinitialspace=True,na_filter=False) \n",
    "# 21.5 GB of strings data\n",
    "len(dfRaw)"
   ]
  },
  {
   "cell_type": "code",
   "execution_count": 2,
   "id": "41738bac-9a98-44d8-955e-3d9ca9eabcb8",
   "metadata": {},
   "outputs": [
    {
     "data": {
      "text/plain": [
       "62530715"
      ]
     },
     "execution_count": 2,
     "metadata": {},
     "output_type": "execute_result"
    }
   ],
   "source": [
    "len(dfRaw)"
   ]
  },
  {
   "cell_type": "code",
   "execution_count": 3,
   "id": "54713633-fa61-4a92-94b3-eaa1e157a0a1",
   "metadata": {},
   "outputs": [
    {
     "data": {
      "text/plain": [
       "(62530716,\n",
       " b'\"COMPONENTES DE AUDIO\",\"CM 4230. CD\\xc2\\xb4S 1 (MP3, USB) POTENCIA 1400 W (PMPO)\",\"LG\",\"APARATOS ELECTRONICOS\",\"ELECTRODOMESTICOS\",1999,\"2015-12-09 14:06:47.000\",\"COPPEL\",\"TIENDA DE AUTOSERVICIO\",\"COPPEL SUCURSAL NUEVO LAREDO\",\"GONZALEZ 2815, ESQ. GUERRERO, COL. CENTRO, CP. 88000\",\"TAMAULIPAS\",\"NUEVO LAREDO\",27.49295,-99.507201\\n')"
      ]
     },
     "execution_count": 3,
     "metadata": {},
     "output_type": "execute_result"
    }
   ],
   "source": [
    "# check rows counting\n",
    "count = 0 \n",
    "with open('/mnt/sx82T1/profecoEDA/all_data.csv','rb')  as f:\n",
    "    for x in f:\n",
    "        count+=1\n",
    "count,x"
   ]
  },
  {
   "cell_type": "code",
   "execution_count": 4,
   "id": "fa7324ba-8808-4ccb-b420-657c63af17b4",
   "metadata": {},
   "outputs": [
    {
     "data": {
      "text/plain": [
       "937960725"
      ]
     },
     "execution_count": 4,
     "metadata": {},
     "output_type": "execute_result"
    }
   ],
   "source": [
    "# for quick EDA design\n",
    "#df = dfRaw.sample(frac=.01,replace=False)\n",
    "#del dfRaw\n",
    "#df.size\n",
    "df = dfRaw[['producto','presentacion','marca','cadenaComercial','estado']]\n",
    "len(df)*15"
   ]
  },
  {
   "cell_type": "code",
   "execution_count": 5,
   "id": "9f8710a2-1257-4856-9913-f8b14e6822bf",
   "metadata": {},
   "outputs": [
    {
     "data": {
      "text/html": [
       "<div>\n",
       "<style scoped>\n",
       "    .dataframe tbody tr th:only-of-type {\n",
       "        vertical-align: middle;\n",
       "    }\n",
       "\n",
       "    .dataframe tbody tr th {\n",
       "        vertical-align: top;\n",
       "    }\n",
       "\n",
       "    .dataframe thead th {\n",
       "        text-align: right;\n",
       "    }\n",
       "</style>\n",
       "<table border=\"1\" class=\"dataframe\">\n",
       "  <thead>\n",
       "    <tr style=\"text-align: right;\">\n",
       "      <th></th>\n",
       "      <th>producto</th>\n",
       "      <th>presentacion</th>\n",
       "      <th>marca</th>\n",
       "      <th>cadenaComercial</th>\n",
       "      <th>estado</th>\n",
       "    </tr>\n",
       "  </thead>\n",
       "  <tbody>\n",
       "    <tr>\n",
       "      <th>0</th>\n",
       "      <td>CUADERNO FORMA ITALIANA</td>\n",
       "      <td>96 HOJAS PASTA DURA. CUADRICULA CHICA</td>\n",
       "      <td>ESTRELLA</td>\n",
       "      <td>ABASTECEDORA LUMEN</td>\n",
       "      <td>DISTRITO FEDERAL</td>\n",
       "    </tr>\n",
       "    <tr>\n",
       "      <th>1</th>\n",
       "      <td>CRAYONES</td>\n",
       "      <td>CAJA 12 CERAS. JUMBO. C.B. 201423</td>\n",
       "      <td>CRAYOLA</td>\n",
       "      <td>ABASTECEDORA LUMEN</td>\n",
       "      <td>DISTRITO FEDERAL</td>\n",
       "    </tr>\n",
       "    <tr>\n",
       "      <th>2</th>\n",
       "      <td>CRAYONES</td>\n",
       "      <td>CAJA 12 CERAS. TAMANO REGULAR C.B. 201034</td>\n",
       "      <td>CRAYOLA</td>\n",
       "      <td>ABASTECEDORA LUMEN</td>\n",
       "      <td>DISTRITO FEDERAL</td>\n",
       "    </tr>\n",
       "    <tr>\n",
       "      <th>3</th>\n",
       "      <td>COLORES DE MADERA</td>\n",
       "      <td>CAJA 12 PIEZAS LARGO. TRIANGULAR. C.B. 640646</td>\n",
       "      <td>PINCELIN</td>\n",
       "      <td>ABASTECEDORA LUMEN</td>\n",
       "      <td>DISTRITO FEDERAL</td>\n",
       "    </tr>\n",
       "    <tr>\n",
       "      <th>4</th>\n",
       "      <td>COLOR LARGO</td>\n",
       "      <td>CAJA 36 PIEZAS. CON SACAPUNTAS. 68-4036</td>\n",
       "      <td>CRAYOLA</td>\n",
       "      <td>ABASTECEDORA LUMEN</td>\n",
       "      <td>DISTRITO FEDERAL</td>\n",
       "    </tr>\n",
       "  </tbody>\n",
       "</table>\n",
       "</div>"
      ],
      "text/plain": [
       "                  producto                                   presentacion  \\\n",
       "0  CUADERNO FORMA ITALIANA          96 HOJAS PASTA DURA. CUADRICULA CHICA   \n",
       "1                 CRAYONES              CAJA 12 CERAS. JUMBO. C.B. 201423   \n",
       "2                 CRAYONES      CAJA 12 CERAS. TAMANO REGULAR C.B. 201034   \n",
       "3        COLORES DE MADERA  CAJA 12 PIEZAS LARGO. TRIANGULAR. C.B. 640646   \n",
       "4              COLOR LARGO        CAJA 36 PIEZAS. CON SACAPUNTAS. 68-4036   \n",
       "\n",
       "      marca     cadenaComercial            estado  \n",
       "0  ESTRELLA  ABASTECEDORA LUMEN  DISTRITO FEDERAL  \n",
       "1   CRAYOLA  ABASTECEDORA LUMEN  DISTRITO FEDERAL  \n",
       "2   CRAYOLA  ABASTECEDORA LUMEN  DISTRITO FEDERAL  \n",
       "3  PINCELIN  ABASTECEDORA LUMEN  DISTRITO FEDERAL  \n",
       "4   CRAYOLA  ABASTECEDORA LUMEN  DISTRITO FEDERAL  "
      ]
     },
     "execution_count": 5,
     "metadata": {},
     "output_type": "execute_result"
    }
   ],
   "source": [
    "df.head()"
   ]
  },
  {
   "cell_type": "markdown",
   "id": "8121221f-2778-46a2-a2b9-2ab6e316a23c",
   "metadata": {},
   "source": [
    "### 1 How many commercial chains are monitored, and therefore, included in this database?\n"
   ]
  },
  {
   "cell_type": "code",
   "execution_count": 6,
   "id": "39824b9e-8d35-4cfd-be9a-ed3f6290b655",
   "metadata": {},
   "outputs": [
    {
     "data": {
      "text/plain": [
       "cadenaComercial\n",
       "WAL-MART                           8643133\n",
       "BODEGA AURRERA                     6765453\n",
       "SORIANA                            6546211\n",
       "MEGA COMERCIAL MEXICANA            4899509\n",
       "CHEDRAUI                           4221625\n",
       "                                    ...   \n",
       "FARMACIA PROVIDENCIA                     7\n",
       "MUEBLERIA MI CASA                        5\n",
       "DANIEL S UNIFORMES                       5\n",
       "PESCADERIA EXPENDIO LOS RUFINOS          4\n",
       "PESCADERIA LA AMISTAD                    1\n",
       "Length: 706, dtype: int64"
      ]
     },
     "execution_count": 6,
     "metadata": {},
     "output_type": "execute_result"
    }
   ],
   "source": [
    "countOfCommercialChains = df.value_counts('cadenaComercial')\n",
    "countOfCommercialChains"
   ]
  },
  {
   "cell_type": "code",
   "execution_count": 7,
   "id": "2c31c8bf-a4d1-4e1d-b713-3722056dda4c",
   "metadata": {},
   "outputs": [
    {
     "name": "stdout",
     "output_type": "stream",
     "text": [
      "Number of commercial chains 706\n"
     ]
    }
   ],
   "source": [
    "numOfCommercialChains = len(countOfCommercialChains)\n",
    "print('Number of commercial chains',numOfCommercialChains)"
   ]
  },
  {
   "cell_type": "markdown",
   "id": "37f319ef-7142-4445-bbab-7f96693718cf",
   "metadata": {
    "tags": []
   },
   "source": [
    "### 2 What are the top 10 monitored products by State?\n"
   ]
  },
  {
   "cell_type": "code",
   "execution_count": 8,
   "id": "d6deaa83-e652-4032-bac9-0dd7072080f3",
   "metadata": {},
   "outputs": [],
   "source": [
    "countEstadoProducto = df[['estado', 'producto']].dropna().value_counts(['estado','producto'])#.sort_values('estado')"
   ]
  },
  {
   "cell_type": "code",
   "execution_count": 9,
   "id": "52a9976a-7ac3-4d46-ab3a-f61589973b5b",
   "metadata": {},
   "outputs": [
    {
     "name": "stdout",
     "output_type": "stream",
     "text": [
      "Number of states 32\n",
      "DISTRITO FEDERAL -> ['REFRESCO' 'FUD' 'LECHE ULTRAPASTEURIZADA' 'DETERGENTE P/ROPA' 'YOGHURT'\n",
      " 'CERVEZA' 'MAYONESA' 'CHILES EN LATA' 'JABON DE TOCADOR' 'SHAMPOO']\n",
      "MÉXICO -> ['REFRESCO' 'FUD' 'DETERGENTE P/ROPA' 'LECHE ULTRAPASTEURIZADA'\n",
      " 'JABON DE TOCADOR' 'YOGHURT' 'MAYONESA' 'CHILES EN LATA' 'SHAMPOO'\n",
      " 'CERVEZA']\n",
      "COAHUILA DE ZARAGOZA -> ['FUD' 'REFRESCO' 'DETERGENTE P/ROPA' 'SHAMPOO' 'LECHE ULTRAPASTEURIZADA'\n",
      " 'JABON DE TOCADOR' 'PANTALLAS' 'LAVADORAS' 'CHILES EN LATA' 'MAYONESA']\n",
      "GUANAJUATO -> ['REFRESCO' 'DETERGENTE P/ROPA' 'VARIOS' 'FUD' 'LECHE ULTRAPASTEURIZADA'\n",
      " 'LAVADORAS' 'CHILES EN LATA' 'JABON DE TOCADOR' 'SHAMPOO' 'MAYONESA']\n",
      "HIDALGO -> ['REFRESCO' 'LAVADORAS' 'DETERGENTE P/ROPA' 'LECHE ULTRAPASTEURIZADA'\n",
      " 'COMPONENTES DE AUDIO' 'PLANCHAS' 'REFRIGERADORES' 'SHAMPOO'\n",
      " 'JABON DE TOCADOR' 'CHILES EN LATA']\n",
      "JALISCO -> ['REFRESCO' 'LECHE ULTRAPASTEURIZADA' 'DETERGENTE P/ROPA' 'FUD'\n",
      " 'CHILES EN LATA' 'JABON DE TOCADOR' 'SHAMPOO' 'MAYONESA' 'DESODORANTE'\n",
      " 'TOALLA FEMENINA']\n",
      "MICHOACÁN DE OCAMPO -> ['DETERGENTE P/ROPA' 'REFRESCO' 'LECHE ULTRAPASTEURIZADA' 'CHILES EN LATA'\n",
      " 'JABON DE TOCADOR' 'MAYONESA' 'LAVADORAS' 'SHAMPOO' 'FUD'\n",
      " 'COMPONENTES DE AUDIO']\n",
      "NUEVO LEÓN -> ['DETERGENTE P/ROPA' 'REFRESCO' 'LECHE ULTRAPASTEURIZADA' 'CHILES EN LATA'\n",
      " 'SHAMPOO' 'JABON DE TOCADOR' 'MAYONESA' 'FUD' 'TOALLA FEMENINA'\n",
      " 'DESODORANTE']\n",
      "OAXACA -> ['LECHE ULTRAPASTEURIZADA' 'REFRESCO' 'DETERGENTE P/ROPA' 'FUD'\n",
      " 'LAVADORAS' 'CHILES EN LATA' 'COMPONENTES DE AUDIO' 'JABON DE TOCADOR'\n",
      " 'SHAMPOO' 'PANTALLAS']\n",
      "PUEBLA -> ['REFRESCO' 'LAVADORAS' 'LECHE ULTRAPASTEURIZADA' 'DETERGENTE P/ROPA'\n",
      " 'FUD' 'PLANCHAS' 'JABON DE TOCADOR' 'REFRIGERADORES' 'PANTALLAS'\n",
      " 'COMPONENTES DE AUDIO']\n",
      "QUERÉTARO -> ['LECHE ULTRAPASTEURIZADA' 'DETERGENTE P/ROPA' 'REFRESCO' 'LAVADORAS'\n",
      " 'FUD' 'JABON DE TOCADOR' 'SHAMPOO' 'CHILES EN LATA'\n",
      " 'COMPONENTES DE AUDIO' 'DESODORANTE']\n",
      "QUINTANA ROO -> ['FUD' 'REFRESCO' 'LAVADORAS' 'LECHE ULTRAPASTEURIZADA'\n",
      " 'DETERGENTE P/ROPA' 'COMPONENTES DE AUDIO' 'PANTALLAS' 'PLANCHAS'\n",
      " 'SHAMPOO' 'REFRIGERADORES']\n",
      "SINALOA -> ['REFRESCO' 'DETERGENTE P/ROPA' 'SHAMPOO' 'LAVADORAS'\n",
      " 'COMPONENTES DE AUDIO' 'JABON DE TOCADOR' 'LECHE ULTRAPASTEURIZADA'\n",
      " 'PANTALLAS' 'MAYONESA' 'REFRIGERADORES']\n",
      "SONORA -> ['REFRESCO' 'DETERGENTE P/ROPA' 'SHAMPOO' 'JABON DE TOCADOR'\n",
      " 'CHILES EN LATA' 'MAYONESA' 'LAVADORAS' 'DESODORANTE' 'PANTALLAS'\n",
      " 'GALLETAS']\n",
      "TABASCO -> ['REFRESCO' 'DETERGENTE P/ROPA' 'LAVADORAS' 'LECHE ULTRAPASTEURIZADA'\n",
      " 'FUD' 'VARIOS' 'COMPONENTES DE AUDIO' 'CHILES EN LATA' 'JABON DE TOCADOR'\n",
      " 'PLANCHAS']\n",
      "TLAXCALA -> ['REFRESCO' 'DETERGENTE P/ROPA' 'LECHE ULTRAPASTEURIZADA'\n",
      " 'JABON DE TOCADOR' 'SHAMPOO' 'CHILES EN LATA' 'MAYONESA' 'ACEITE'\n",
      " 'TOALLA FEMENINA' 'LECHE EN POLVO']\n",
      "VERACRUZ DE IGNACIO DE LA LLAVE -> ['REFRESCO' 'LECHE ULTRAPASTEURIZADA' 'DETERGENTE P/ROPA' 'FUD'\n",
      " 'LAVADORAS' 'SHAMPOO' 'JABON DE TOCADOR' 'DESODORANTE' 'PANTALLAS'\n",
      " 'CHILES EN LATA']\n",
      "YUCATÁN -> ['LECHE ULTRAPASTEURIZADA' 'DETERGENTE P/ROPA' 'REFRESCO' 'FUD'\n",
      " 'LAVADORAS' 'CHILES EN LATA' 'MAYONESA' 'SHAMPOO' 'PLANCHAS'\n",
      " 'LECHE EN POLVO']\n",
      "AGUASCALIENTES -> ['FUD' 'DETERGENTE P/ROPA' 'LECHE ULTRAPASTEURIZADA' 'SHAMPOO' 'REFRESCO'\n",
      " 'DESODORANTE' 'JABON DE TOCADOR' 'CHILES EN LATA' 'YOGHURT' 'MAYONESA']\n",
      "COLIMA -> ['DETERGENTE P/ROPA' 'LECHE ULTRAPASTEURIZADA' 'REFRESCO' 'FUD'\n",
      " 'JABON DE TOCADOR' 'LAVADORAS' 'COMPONENTES DE AUDIO' 'PANTALLAS'\n",
      " 'CHILES EN LATA' 'SHAMPOO']\n",
      "ZACATECAS -> ['DETERGENTE P/ROPA' 'LECHE ULTRAPASTEURIZADA' 'LAVADORAS' 'MAYONESA'\n",
      " 'JABON DE TOCADOR' 'FUD' 'SHAMPOO' 'CHILES EN LATA'\n",
      " 'COMPONENTES DE AUDIO' 'REFRESCO']\n",
      "DURANGO -> ['DETERGENTE P/ROPA' 'LAVADORAS' 'FUD' 'REFRESCO' 'PANTALLAS' 'SHAMPOO'\n",
      " 'COMPONENTES DE AUDIO' 'JABON DE TOCADOR' 'PLANCHAS' 'CHILES EN LATA']\n",
      "BAJA CALIFORNIA -> ['REFRESCO' 'DETERGENTE P/ROPA' 'FUD' 'SHAMPOO' 'JABON DE TOCADOR'\n",
      " 'CHILES EN LATA' 'GALLETAS' 'PANTALLAS' 'CEREALES' 'DESODORANTE']\n",
      "BAJA CALIFORNIA SUR -> ['REFRESCO' 'FUD' 'PANTALLAS' 'DETERGENTE P/ROPA' 'LAVADORAS' 'SHAMPOO'\n",
      " 'JABON DE TOCADOR' 'CHILES EN LATA' 'PLANCHAS' 'COMPONENTES DE AUDIO']\n",
      "CAMPECHE -> ['FUD' 'REFRESCO' 'PANTALLAS' 'LAVADORAS' 'DETERGENTE P/ROPA'\n",
      " 'LECHE ULTRAPASTEURIZADA' 'REFRIGERADORES' 'SHAMPOO' 'JABON DE TOCADOR'\n",
      " 'PLANCHAS']\n",
      "CHIAPAS -> ['REFRESCO' 'FUD' 'DETERGENTE P/ROPA' 'PANTALLAS' 'JABON DE TOCADOR'\n",
      " 'CHILES EN LATA' 'SHAMPOO' 'LECHE ULTRAPASTEURIZADA' 'DESODORANTE'\n",
      " 'CERVEZA']\n",
      "CHIHUAHUA -> ['DETERGENTE P/ROPA' 'FUD' 'CHILES EN LATA' 'SHAMPOO' 'JABON DE TOCADOR'\n",
      " 'REFRESCO' 'PANTALLAS' 'MAYONESA' 'DESODORANTE' 'LAVADORAS']\n",
      "GUERRERO -> ['REFRESCO' 'FUD' 'DETERGENTE P/ROPA' 'SHAMPOO' 'LECHE ULTRAPASTEURIZADA'\n",
      " 'DESODORANTE' 'LAVADORAS' 'CERVEZA' 'JABON DE TOCADOR' 'CHILES EN LATA']\n",
      "MORELOS -> ['REFRESCO' 'FUD' 'DETERGENTE P/ROPA' 'LAVADORAS' 'PANTALLAS' 'SHAMPOO'\n",
      " 'REFRIGERADORES' 'LECHE ULTRAPASTEURIZADA' 'DESODORANTE'\n",
      " 'JABON DE TOCADOR']\n",
      "NAYARIT -> ['REFRESCO' 'PANTALLAS' 'FUD' 'LAVADORAS' 'DETERGENTE P/ROPA'\n",
      " 'COMPONENTES DE AUDIO' 'SHAMPOO' 'JABON DE TOCADOR' 'REFRIGERADORES'\n",
      " 'PLANCHAS']\n",
      "SAN LUIS POTOSÍ -> ['FUD' 'PANTALLAS' 'LAVADORAS' 'DETERGENTE P/ROPA' 'PLANCHAS'\n",
      " 'LECHE ULTRAPASTEURIZADA' 'REFRESCO' 'SHAMPOO' 'JABON DE TOCADOR'\n",
      " 'ESTUFAS']\n",
      "TAMAULIPAS -> ['REFRESCO' 'FUD' 'DETERGENTE P/ROPA' 'SHAMPOO' 'JABON DE TOCADOR'\n",
      " 'CHILES EN LATA' 'DESODORANTE' 'CEREALES' 'PANTALLAS' 'MAYONESA']\n"
     ]
    }
   ],
   "source": [
    "estados = df['estado'].dropna().unique()\n",
    "estados = [s for s in estados if 'estado' not in s and len(s)>4]\n",
    "print('Number of states',len(estados))\n",
    "for x in estados:\n",
    "    print(x,'->',countEstadoProducto[[x]].head(10).unstack().columns.values)"
   ]
  },
  {
   "cell_type": "markdown",
   "id": "81bd92bb-f0d9-4e67-ae77-923c93cbdc7b",
   "metadata": {
    "tags": []
   },
   "source": [
    "### 3 Which is the commercial chain with the highest number of monitored products?\n"
   ]
  },
  {
   "cell_type": "code",
   "execution_count": 12,
   "id": "553ec6af-c329-4fe5-a365-2731f3b5a04b",
   "metadata": {},
   "outputs": [
    {
     "name": "stdout",
     "output_type": "stream",
     "text": [
      "WAL-MART\n",
      "Monitored Products:  8643133\n"
     ]
    }
   ],
   "source": [
    "print(countOfCommercialChains.index[0])\n",
    "print('Monitored Products: ', countOfCommercialChains[0])"
   ]
  },
  {
   "cell_type": "markdown",
   "id": "23c9a366-9f26-4117-9034-0a7504440248",
   "metadata": {
    "tags": []
   },
   "source": [
    "### 4 Use the data to find an interesting fact.\n"
   ]
  },
  {
   "cell_type": "markdown",
   "id": "ac04098a-acad-4b8f-afb9-1db1cdbd27bd",
   "metadata": {},
   "source": [
    "Here we have the top 20 most monitored products in every commercial chain and brand. \n",
    "\n",
    "It is interesting to note that the top 20 monitored products in every commercial chain and brand are unbranded. Besides, they are more than 25% of the market share."
   ]
  },
  {
   "cell_type": "code",
   "execution_count": 26,
   "id": "f20751e4-fd09-43e1-b890-683525b6add5",
   "metadata": {},
   "outputs": [
    {
     "data": {
      "text/plain": [
       "cadenaComercial             marca\n",
       "WAL-MART                    S/M      0.041743\n",
       "BODEGA AURRERA              S/M      0.037119\n",
       "SORIANA                     S/M      0.033494\n",
       "MEGA COMERCIAL MEXICANA     S/M      0.024150\n",
       "CHEDRAUI                    S/M      0.020706\n",
       "SUPERAMA                    S/M      0.016295\n",
       "COMERCIAL MEXICANA          S/M      0.013576\n",
       "MERCADO SORIANA             S/M      0.008361\n",
       "HIPERMERCADO SORIANA        S/M      0.008253\n",
       "FARMACIA GUADALAJARA        S/M      0.007619\n",
       "SORIANA SUPER               S/M      0.007524\n",
       "H.E.B.                      S/M      0.006826\n",
       "BODEGA COMERCIAL MEXICANA   S/M      0.006290\n",
       "SANBORN S HNOS.             S/M      0.005759\n",
       "BENAVIDES                   S/M      0.004806\n",
       "FARMACIAS DEL AHORRO        S/M      0.004287\n",
       "SORIANA PLUS                S/M      0.003943\n",
       "TORTILLERIAS TRADICIONALES  S/M      0.003310\n",
       "I.S.S.S.T.E.                S/M      0.003037\n",
       "SUMESA                      S/M      0.002556\n",
       "dtype: float64"
      ]
     },
     "execution_count": 26,
     "metadata": {},
     "output_type": "execute_result"
    }
   ],
   "source": [
    "countCommercialChainBrand = df.value_counts(['cadenaComercial','marca'],normalize=True).head(20)\n",
    "countCommercialChainBrand"
   ]
  },
  {
   "cell_type": "code",
   "execution_count": 27,
   "id": "daae015b-256a-41c6-a00e-9271c2934b6e",
   "metadata": {},
   "outputs": [
    {
     "data": {
      "text/plain": [
       "0.2596548112395644"
      ]
     },
     "execution_count": 27,
     "metadata": {},
     "output_type": "execute_result"
    }
   ],
   "source": [
    "countCommercialChainBrand.sum()"
   ]
  },
  {
   "cell_type": "markdown",
   "id": "c91f9ccd-1e7c-4e63-b905-25b967b9ca91",
   "metadata": {},
   "source": [
    "### 5 What are the lessons learned from this exercise?\n"
   ]
  },
  {
   "cell_type": "markdown",
   "id": "7d53bcc0-5dcf-43aa-ba35-5ab460577fa3",
   "metadata": {},
   "source": [
    "I learned that hudge datasets need the correct tools to be solved. "
   ]
  },
  {
   "cell_type": "markdown",
   "id": "a567c116-7403-4ce8-bd95-0f01b163b96d",
   "metadata": {
    "tags": []
   },
   "source": [
    "### 6 Can you identify other ways to approach this problem? Explain.\n"
   ]
  },
  {
   "cell_type": "markdown",
   "id": "273aa20f-5912-4d8b-997a-085eb1500d05",
   "metadata": {},
   "source": [
    "This problem can be seen as a categorycal data mining problem. \n",
    "\n",
    "We can transform first the dataset in order to work with natural numbers and use les memory.\n",
    "\n",
    "Also we can use other tool in order to distribuite workloads."
   ]
  }
 ],
 "metadata": {
  "kernelspec": {
   "display_name": "Python 3 (ipykernel)",
   "language": "python",
   "name": "python3"
  },
  "language_info": {
   "codemirror_mode": {
    "name": "ipython",
    "version": 3
   },
   "file_extension": ".py",
   "mimetype": "text/x-python",
   "name": "python",
   "nbconvert_exporter": "python",
   "pygments_lexer": "ipython3",
   "version": "3.9.7"
  }
 },
 "nbformat": 4,
 "nbformat_minor": 5
}
